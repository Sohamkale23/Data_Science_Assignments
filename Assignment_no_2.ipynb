{
  "nbformat": 4,
  "nbformat_minor": 0,
  "metadata": {
    "colab": {
      "provenance": []
    },
    "kernelspec": {
      "name": "python3",
      "display_name": "Python 3"
    },
    "language_info": {
      "name": "python"
    }
  },
  "cells": [
    {
      "cell_type": "code",
      "source": [
        "import numpy as np\n",
        "from scipy.stats import t,norm"
      ],
      "metadata": {
        "id": "YSqAny2PwKUO"
      },
      "execution_count": 3,
      "outputs": []
    },
    {
      "cell_type": "code",
      "source": [
        "data=np.array([1.13, 1.55, 1.43, 0.92, 1.25, 1.36, 1.32, 0.85, 1.07, 1.48, 1.20, 1.33, 1.18, 1.22, 1.29])\n",
        "n=len(data)\n",
        "confidence_level=0.99"
      ],
      "metadata": {
        "id": "BFL7v4VmvZbG"
      },
      "execution_count": 5,
      "outputs": []
    },
    {
      "cell_type": "code",
      "source": [
        "mean_sample=np.mean(data)\n",
        "std_sample=np.std(data,ddof=1)\n",
        "df = n-1\n",
        "t_critical=t.ppf((1+confidence_level)/2,df)\n"
      ],
      "metadata": {
        "id": "31DDi6_QwDLh"
      },
      "execution_count": 9,
      "outputs": []
    },
    {
      "cell_type": "code",
      "source": [
        "margin_of_error_a=t_critical*(std_sample/np.sqrt(n))\n",
        "ci_a=(mean_sample-margin_of_error_a,mean_sample+margin_of_error_a)"
      ],
      "metadata": {
        "id": "zkcPYt8KwRp_"
      },
      "execution_count": 10,
      "outputs": []
    },
    {
      "cell_type": "code",
      "source": [
        "std_population=0.2\n",
        "z_critical=norm.ppf((1+confidence_level)/2)"
      ],
      "metadata": {
        "id": "ng9anPB0z-7l"
      },
      "execution_count": 11,
      "outputs": []
    },
    {
      "cell_type": "code",
      "source": [
        "margin_of_error_b=z_critical*(std_population/np.sqrt(n))\n",
        "ci_b=(mean_sample-margin_of_error_b,mean_sample+margin_of_error_b)"
      ],
      "metadata": {
        "id": "0I9opc831F8b"
      },
      "execution_count": 12,
      "outputs": []
    },
    {
      "cell_type": "code",
      "source": [
        "mean_sample,std_sample,ci_a,ci_b"
      ],
      "metadata": {
        "colab": {
          "base_uri": "https://localhost:8080/"
        },
        "id": "QgW5tPHo1OpF",
        "outputId": "d4b20fb8-eb96-4c48-d28e-06654b385d67"
      },
      "execution_count": 13,
      "outputs": [
        {
          "output_type": "execute_result",
          "data": {
            "text/plain": [
              "(1.2386666666666666,\n",
              " 0.19316412956959936,\n",
              " (1.0901973384384906, 1.3871359948948425),\n",
              " (1.1056514133957607, 1.3716819199375725))"
            ]
          },
          "metadata": {},
          "execution_count": 13
        }
      ]
    },
    {
      "cell_type": "code",
      "source": [],
      "metadata": {
        "id": "08vDFgr21RfN"
      },
      "execution_count": null,
      "outputs": []
    }
  ]
}