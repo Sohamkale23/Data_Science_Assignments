{
  "nbformat": 4,
  "nbformat_minor": 0,
  "metadata": {
    "colab": {
      "provenance": []
    },
    "kernelspec": {
      "name": "python3",
      "display_name": "Python 3"
    },
    "language_info": {
      "name": "python"
    }
  },
  "cells": [
    {
      "cell_type": "code",
      "execution_count": 1,
      "metadata": {
        "colab": {
          "base_uri": "https://localhost:8080/"
        },
        "id": "ubXdn9hrxl96",
        "outputId": "ea15d91a-a2d8-413d-9673-bf6150913ba9"
      },
      "outputs": [
        {
          "output_type": "stream",
          "name": "stdout",
          "text": [
            "Chi-Square Test for Independence\n",
            "----------------------------------\n",
            "Chi-Square Statistic: 5.64\n",
            "Critical Value (alpha = 0.05): 9.49\n",
            "Degrees of Freedom: 4\n",
            "Decision: Fail to reject the null hypothesis: There is no significant association between the type of smart home device and customer satisfaction level.\n"
          ]
        }
      ],
      "source": [
        "import numpy as np\n",
        "import scipy.stats as stats\n",
        "\n",
        "# Data from the contingency table\n",
        "observed = np.array([\n",
        "    [50, 70],  # Very Satisfied\n",
        "    [80, 100],  # Satisfied\n",
        "    [60, 90],  # Neutral\n",
        "    [30, 50],  # Unsatisfied\n",
        "    [20, 50]   # Very Unsatisfied\n",
        "])\n",
        "\n",
        "# Step 1: State the Hypotheses\n",
        "# H0: There is no association between the type of smart home device purchased and customer satisfaction level.\n",
        "# H1: There is an association between the type of smart home device purchased and customer satisfaction level.\n",
        "\n",
        "# Step 2: Compute the Chi-Square Statistic\n",
        "# Calculate the expected frequencies\n",
        "row_totals = observed.sum(axis=1)\n",
        "col_totals = observed.sum(axis=0)\n",
        "grand_total = observed.sum()\n",
        "\n",
        "expected = np.outer(row_totals, col_totals) / grand_total\n",
        "\n",
        "# Calculate the Chi-Square statistic\n",
        "chi_square_statistic = ((observed - expected) ** 2 / expected).sum()\n",
        "\n",
        "# Step 3: Determine the Critical Value\n",
        "alpha = 0.05\n",
        "# Degrees of freedom = (number of rows - 1) * (number of columns - 1)\n",
        "df = (observed.shape[0] - 1) * (observed.shape[1] - 1)\n",
        "critical_value = stats.chi2.ppf(1 - alpha, df)\n",
        "\n",
        "# Step 4: Make a Decision\n",
        "# Compare the Chi-Square statistic with the critical value\n",
        "if chi_square_statistic > critical_value:\n",
        "    decision = \"Reject the null hypothesis: There is a significant association between the type of smart home device and customer satisfaction level.\"\n",
        "else:\n",
        "    decision = \"Fail to reject the null hypothesis: There is no significant association between the type of smart home device and customer satisfaction level.\"\n",
        "\n",
        "# Output results\n",
        "print(\"Chi-Square Test for Independence\")\n",
        "print(\"----------------------------------\")\n",
        "print(f\"Chi-Square Statistic: {chi_square_statistic:.2f}\")\n",
        "print(f\"Critical Value (alpha = {alpha}): {critical_value:.2f}\")\n",
        "print(f\"Degrees of Freedom: {df}\")\n",
        "print(f\"Decision: {decision}\")\n"
      ]
    },
    {
      "cell_type": "code",
      "source": [
        "import math\n",
        "from scipy.stats import norm\n",
        "\n",
        "# Step 1: Hypotheses Statement\n",
        "# Null Hypothesis (H0): The theoretical cost model is accurate.\n",
        "# Alternative Hypothesis (H1): The weekly operating costs are higher than the theoretical model.\n",
        "\n",
        "# Step 2: Calculate the Test Statistic\n",
        "# Given data:\n",
        "sample_mean = 3050  # Rs.\n",
        "theoretical_cost = 1000 + 5 * 600  # Rs.\n",
        "std_dev_units = 25\n",
        "sample_size = 25\n",
        "\n",
        "# Calculate the standard deviation for the weekly cost\n",
        "std_dev_weekly_cost = 5 * std_dev_units\n",
        "\n",
        "# Test statistic formula: t = (\\bar{x} - μ) / (σ / √n)\n",
        "test_statistic = (sample_mean - theoretical_cost) / (std_dev_weekly_cost / math.sqrt(sample_size))\n",
        "\n",
        "# Step 3: Determine the Critical Value\n",
        "alpha = 0.05\n",
        "critical_value = norm.ppf(1 - alpha)  # One-tailed test\n",
        "\n",
        "# Step 4: Make a Decision\n",
        "reject_null = test_statistic > critical_value\n",
        "\n",
        "# Step 5: Conclusion\n",
        "if reject_null:\n",
        "    conclusion = \"There is strong evidence to support the restaurant owners' claim that the weekly operating costs are higher than the model suggests.\"\n",
        "else:\n",
        "    conclusion = \"There is not enough evidence to support the restaurant owners' claim.\"\n",
        "\n",
        "# Print Results\n",
        "print(\"Hypotheses:\")\n",
        "print(\"H0: The theoretical cost model is accurate.\")\n",
        "print(\"H1: The weekly operating costs are higher than the theoretical model.\")\n",
        "print()\n",
        "print(f\"Theoretical Weekly Cost: {theoretical_cost} Rs\")\n",
        "print(f\"Sample Mean Weekly Cost: {sample_mean} Rs\")\n",
        "print(f\"Standard Deviation of Weekly Cost: {std_dev_weekly_cost} Rs\")\n",
        "print(f\"Test Statistic: {test_statistic:.2f}\")\n",
        "print(f\"Critical Value: {critical_value:.2f}\")\n",
        "print()\n",
        "print(conclusion)\n"
      ],
      "metadata": {
        "colab": {
          "base_uri": "https://localhost:8080/"
        },
        "id": "N-HzUTWlx59H",
        "outputId": "270796ca-b920-4e78-8146-e6989f54faca"
      },
      "execution_count": 2,
      "outputs": [
        {
          "output_type": "stream",
          "name": "stdout",
          "text": [
            "Hypotheses:\n",
            "H0: The theoretical cost model is accurate.\n",
            "H1: The weekly operating costs are higher than the theoretical model.\n",
            "\n",
            "Theoretical Weekly Cost: 4000 Rs\n",
            "Sample Mean Weekly Cost: 3050 Rs\n",
            "Standard Deviation of Weekly Cost: 125 Rs\n",
            "Test Statistic: -38.00\n",
            "Critical Value: 1.64\n",
            "\n",
            "There is not enough evidence to support the restaurant owners' claim.\n"
          ]
        }
      ]
    },
    {
      "cell_type": "code",
      "source": [],
      "metadata": {
        "id": "pi2G4MfwyS7b"
      },
      "execution_count": null,
      "outputs": []
    }
  ]
}