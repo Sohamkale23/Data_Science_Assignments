{
  "nbformat": 4,
  "nbformat_minor": 0,
  "metadata": {
    "colab": {
      "provenance": []
    },
    "kernelspec": {
      "name": "python3",
      "display_name": "Python 3"
    },
    "language_info": {
      "name": "python"
    }
  },
  "cells": [
    {
      "cell_type": "code",
      "source": [
        "number =int(input())\n",
        "if number> 1:\n",
        "      for i in range (2,(number//2)+1):\n",
        "         if (number%i)==0:\n",
        "           print(number,\"is not a prime number\")\n",
        "           break\n",
        "      else:\n",
        "          print(number,\"is a prime number\")\n",
        "else:\n",
        "   print(number,\"is not a prime number\")"
      ],
      "metadata": {
        "id": "F4CLVXChwyH5",
        "colab": {
          "base_uri": "https://localhost:8080/"
        },
        "outputId": "0f312536-98a1-4bb1-bc06-5cdba961adc7"
      },
      "execution_count": null,
      "outputs": [
        {
          "output_type": "stream",
          "name": "stdout",
          "text": [
            "12\n",
            "12 is not a prime number\n"
          ]
        }
      ]
    },
    {
      "cell_type": "code",
      "source": [
        "import random\n",
        "res=sum([random.randrange(1,50,1)for i in range(7)])\n",
        "user_answer = int(input(\"Your answer: \"))\n",
        "if user_answer == res:\n",
        "        print(\"Correct!\")\n",
        "else:\n",
        "        print(f\"Wrong. The correct answer is {res}.\")\n"
      ],
      "metadata": {
        "id": "2QtbsKmgV567",
        "colab": {
          "base_uri": "https://localhost:8080/"
        },
        "outputId": "98d487f7-ac67-4cf7-e0d4-7913420526ca"
      },
      "execution_count": 4,
      "outputs": [
        {
          "output_type": "stream",
          "name": "stdout",
          "text": [
            "Your answer: 78\n",
            "Wrong. The correct answer is 177.\n"
          ]
        }
      ]
    },
    {
      "cell_type": "code",
      "source": [
        "num1 = random.randint(1, 10)\n",
        "num2 = random.randint(1, 10)\n",
        "correct_answer = num1 * num2\n",
        "\n",
        "print(f\"What is the product of {num1} and {num2}?\")\n",
        "user_answer = int(input(\"Your answer: \"))\n",
        "\n",
        "if user_answer == correct_answer:\n",
        "        print(\"Correct!\")\n",
        "else:\n",
        "        print(f\"Wrong. The correct answer is {correct_answer}.\")\n"
      ],
      "metadata": {
        "colab": {
          "base_uri": "https://localhost:8080/"
        },
        "id": "RvM8xWIktd9t",
        "outputId": "65935865-381c-4150-dc83-dafa459496c9"
      },
      "execution_count": 7,
      "outputs": [
        {
          "output_type": "stream",
          "name": "stdout",
          "text": [
            "What is the product of 2 and 2?\n",
            "Your answer: 4\n",
            "Correct!\n"
          ]
        }
      ]
    },
    {
      "cell_type": "code",
      "source": [
        "choice=input()\n",
        "if choice==\"even\":\n",
        "  numbers=range(100,201,2)\n",
        "elif choice==\"odd\":\n",
        "  numbers=range(101,200,2)\n",
        "else:\n",
        "  print(\"Invalid choice. Choose 'even' or 'odd'.\")\n",
        "for num in numbers:\n",
        "        print(f\"{num}^2 = {num ** 2}\")\n",
        "\n"
      ],
      "metadata": {
        "colab": {
          "base_uri": "https://localhost:8080/"
        },
        "id": "zW9xrQodvB8h",
        "outputId": "16b595ad-270a-42ce-ce78-d197fe2075a2"
      },
      "execution_count": 10,
      "outputs": [
        {
          "output_type": "stream",
          "name": "stdout",
          "text": [
            "odd\n",
            "101^2 = 10201\n",
            "103^2 = 10609\n",
            "105^2 = 11025\n",
            "107^2 = 11449\n",
            "109^2 = 11881\n",
            "111^2 = 12321\n",
            "113^2 = 12769\n",
            "115^2 = 13225\n",
            "117^2 = 13689\n",
            "119^2 = 14161\n",
            "121^2 = 14641\n",
            "123^2 = 15129\n",
            "125^2 = 15625\n",
            "127^2 = 16129\n",
            "129^2 = 16641\n",
            "131^2 = 17161\n",
            "133^2 = 17689\n",
            "135^2 = 18225\n",
            "137^2 = 18769\n",
            "139^2 = 19321\n",
            "141^2 = 19881\n",
            "143^2 = 20449\n",
            "145^2 = 21025\n",
            "147^2 = 21609\n",
            "149^2 = 22201\n",
            "151^2 = 22801\n",
            "153^2 = 23409\n",
            "155^2 = 24025\n",
            "157^2 = 24649\n",
            "159^2 = 25281\n",
            "161^2 = 25921\n",
            "163^2 = 26569\n",
            "165^2 = 27225\n",
            "167^2 = 27889\n",
            "169^2 = 28561\n",
            "171^2 = 29241\n",
            "173^2 = 29929\n",
            "175^2 = 30625\n",
            "177^2 = 31329\n",
            "179^2 = 32041\n",
            "181^2 = 32761\n",
            "183^2 = 33489\n",
            "185^2 = 34225\n",
            "187^2 = 34969\n",
            "189^2 = 35721\n",
            "191^2 = 36481\n",
            "193^2 = 37249\n",
            "195^2 = 38025\n",
            "197^2 = 38809\n",
            "199^2 = 39601\n"
          ]
        }
      ]
    },
    {
      "cell_type": "code",
      "source": [
        "input_text = \"This is a sample text. This text will be used to demonstrate the word counter.\"\n",
        "word_counts = {}\n",
        "words = input_text.split()\n",
        "for word in words:\n",
        "        word = word.lower()  # Normalize case\n",
        "        word_counts[word] = word_counts.get(word, 0) + 1\n",
        "\n",
        "for word, count in word_counts.items():\n",
        "        print(f\"'{word}': {count}\")"
      ],
      "metadata": {
        "colab": {
          "base_uri": "https://localhost:8080/"
        },
        "id": "f1zkkRkEz26x",
        "outputId": "d9fa9372-0890-453a-a99f-955c2693aa1b"
      },
      "execution_count": 12,
      "outputs": [
        {
          "output_type": "stream",
          "name": "stdout",
          "text": [
            "'this': 2\n",
            "'is': 1\n",
            "'a': 1\n",
            "'sample': 1\n",
            "'text.': 1\n",
            "'text': 1\n",
            "'will': 1\n",
            "'be': 1\n",
            "'used': 1\n",
            "'to': 1\n",
            "'demonstrate': 1\n",
            "'the': 1\n",
            "'word': 1\n",
            "'counter.': 1\n"
          ]
        }
      ]
    },
    {
      "cell_type": "code",
      "source": [
        "Word=input()\n",
        "if (Word==Word[::-1]):\n",
        "  print(\"The word is Palindrome\")\n",
        "else:\n",
        "  print(\"The word is not Palindrome\")"
      ],
      "metadata": {
        "colab": {
          "base_uri": "https://localhost:8080/"
        },
        "id": "aWQCzt0gAOpp",
        "outputId": "959fed40-2a80-4fc1-ba83-b03e1a052468"
      },
      "execution_count": 18,
      "outputs": [
        {
          "output_type": "stream",
          "name": "stdout",
          "text": [
            "racecar\n",
            "The word is Palindrome\n"
          ]
        }
      ]
    },
    {
      "cell_type": "code",
      "source": [],
      "metadata": {
        "id": "bBHT31rwBaaM"
      },
      "execution_count": 17,
      "outputs": []
    }
  ]
}